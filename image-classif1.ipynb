{
 "cells": [
  {
   "cell_type": "markdown",
   "metadata": {},
   "source": [
    "# Image Comparison Model!"
   ]
  },
  {
   "cell_type": "markdown",
   "metadata": {},
   "source": [
    "The Vision Transformer (ViT) is a deep learning model architecture introduced by Google Research for computer vision tasks. It represents a significant departure from traditional convolutional neural networks (CNNs) commonly used in image processing tasks. Instead of processing entire images directly, ViT divides input images into fixed-size patches and flattens them into sequences. Each patch is treated as a token and processed by the Transformer encoder. We import this model from Hugging Face here: https://huggingface.co/google/vit-base-patch16-224-in21k."
   ]
  },
  {
   "cell_type": "markdown",
   "metadata": {},
   "source": [
    "## Loading the Model ##"
   ]
  },
  {
   "cell_type": "markdown",
   "metadata": {},
   "source": [
    "Here, we load model from Hugging Face and import a finger print data-base. As a note, this iteration of the model is a generalized model and was trained on (14 million images, 21,843 classes)."
   ]
  },
  {
   "cell_type": "code",
   "execution_count": 14,
   "metadata": {},
   "outputs": [],
   "source": [
    "from transformers import ViTImageProcessor, ViTModel\n",
    "from PIL import Image\n",
    "import requests\n",
    "import os\n",
    "import torch\n",
    "import numpy as np\n",
    "import torch.nn.functional as F\n",
    "\n",
    "processor = ViTImageProcessor.from_pretrained('google/vit-base-patch16-224-in21k')\n",
    "model = ViTModel.from_pretrained('google/vit-base-patch16-224-in21k')\n",
    "device = torch.device(\"cuda\" if torch.cuda.is_available() else \"cpu\")\n",
    "model.to(device);"
   ]
  },
  {
   "cell_type": "code",
   "execution_count": null,
   "metadata": {},
   "outputs": [],
   "source": [
    "data_dir = \"/Users/crosas/Downloads/CrossMatch_Sample_DB\"\n",
    "image_files = os.listdir(data_dir)"
   ]
  },
  {
   "cell_type": "markdown",
   "metadata": {},
   "source": [
    "## Helper Functions: Process & Compare ##"
   ]
  },
  {
   "cell_type": "markdown",
   "metadata": {},
   "source": [
    "The following function extracts images from out imported file. We standardize its dimension to work with the model."
   ]
  },
  {
   "cell_type": "code",
   "execution_count": null,
   "metadata": {},
   "outputs": [],
   "source": [
    "def process_image(image_path):\n",
    "    image = Image.open(image_path)\n",
    "    if image.mode != 'RGB':\n",
    "        image = image.convert('RGB')\n",
    "    inputs = extractor(images=image, return_tensors=\"pt\")\n",
    "    inputs.to(device)\n",
    "    return inputs"
   ]
  },
  {
   "cell_type": "code",
   "execution_count": null,
   "metadata": {},
   "outputs": [],
   "source": [
    "def compute_similarity(embeddings1, embeddings2):\n",
    "    embeddings1 = embeddings1.reshape(1, -1)\n",
    "    embeddings2 = embeddings2.reshape(1, -1)\n",
    "    similarity = F.cosine_similarity(torch.tensor(embeddings1), torch.tensor(embeddings2), dim=1).item()\n",
    "    return similarity"
   ]
  },
  {
   "cell_type": "markdown",
   "metadata": {},
   "source": [
    "This function performs a cosine similarity comparison on our embeddings. Cosine similarity is a measure that quantifies the similarity between two vectors by calculating the cosine of the angle between them, ranging from -1 to 1 (ie. closer to 1, more similar)."
   ]
  },
  {
   "cell_type": "markdown",
   "metadata": {},
   "source": [
    "## Create Emeddings ##"
   ]
  },
  {
   "cell_type": "markdown",
   "metadata": {},
   "source": [
    "Below, we loop through the image file to ge the emeddings from the model."
   ]
  },
  {
   "cell_type": "code",
   "execution_count": null,
   "metadata": {},
   "outputs": [],
   "source": [
    "image_embeddings = []\n",
    "\n",
    "for image_file in image_files:\n",
    "    if image_file.endswith('.tif') or image_file.endswith('.tiff'):\n",
    "        image_path = os.path.join(data_dir, image_file)\n",
    "        inputs = process_image(image_path)\n",
    "        \n",
    "        with torch.no_grad():\n",
    "            outputs = model(**inputs)\n",
    "            embeddings = outputs.last_hidden_state.mean(dim=1)\n",
    "        \n",
    "        image_embeddings.append(embeddings.cpu().numpy())\n"
   ]
  },
  {
   "cell_type": "markdown",
   "metadata": {},
   "source": [
    "## Perform Comparisons! ##"
   ]
  },
  {
   "cell_type": "code",
   "execution_count": 20,
   "metadata": {},
   "outputs": [
    {
     "name": "stdout",
     "output_type": "stream",
     "text": [
      "Similarity between the first and 100th images: 0.7751970887184143\n"
     ]
    }
   ],
   "source": [
    "image_embeddings = np.vstack(image_embeddings)\n",
    "similarity = compute_similarity(image_embeddings[0], image_embeddings[99])\n",
    "print(\"Similarity between the first and 100th images:\", similarity)"
   ]
  }
 ],
 "metadata": {
  "kernelspec": {
   "display_name": "Python 3",
   "language": "python",
   "name": "python3"
  },
  "language_info": {
   "codemirror_mode": {
    "name": "ipython",
    "version": 3
   },
   "file_extension": ".py",
   "mimetype": "text/x-python",
   "name": "python",
   "nbconvert_exporter": "python",
   "pygments_lexer": "ipython3",
   "version": "3.11.2"
  }
 },
 "nbformat": 4,
 "nbformat_minor": 2
}
